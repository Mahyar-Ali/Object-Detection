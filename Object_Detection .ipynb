{
  "nbformat": 4,
  "nbformat_minor": 0,
  "metadata": {
    "colab": {
      "name": "Object_Detection.ipynb",
      "provenance": [],
      "collapsed_sections": []
    },
    "kernelspec": {
      "name": "python3",
      "display_name": "Python 3"
    },
    "accelerator": "GPU"
  },
  "cells": [
    {
      "cell_type": "code",
      "metadata": {
        "id": "8U5psIrQrX7n",
        "colab_type": "code",
        "colab": {}
      },
      "source": [
        "!wget \"https://sds-platform-private.s3-us-east-2.amazonaws.com/uploads/P23-Code-for-Mac-and-Linux.zip\""
      ],
      "execution_count": 0,
      "outputs": []
    },
    {
      "cell_type": "code",
      "metadata": {
        "id": "0_ZNuYZIjh-t",
        "colab_type": "code",
        "colab": {}
      },
      "source": [
        "!unzip \"P23-Code-for-Mac-and-Linux.zip\""
      ],
      "execution_count": 0,
      "outputs": []
    },
    {
      "cell_type": "code",
      "metadata": {
        "id": "X8s7Ubsv8MP4",
        "colab_type": "code",
        "colab": {
          "base_uri": "https://localhost:8080/",
          "height": 36
        },
        "outputId": "b5620bef-4dd2-4495-8f7f-768ca9c7a6b9"
      },
      "source": [
        "cd Code\\ for\\ Mac\\ and\\ Linux"
      ],
      "execution_count": 1,
      "outputs": [
        {
          "output_type": "stream",
          "text": [
            "/content/Code for Mac and Linux\n"
          ],
          "name": "stdout"
        }
      ]
    },
    {
      "cell_type": "code",
      "metadata": {
        "id": "8yrCxlfu8WzX",
        "colab_type": "code",
        "colab": {
          "base_uri": "https://localhost:8080/",
          "height": 36
        },
        "outputId": "a4dee27b-08fd-4e6b-d5fd-0b27f740ce5f"
      },
      "source": [
        "pwd"
      ],
      "execution_count": 2,
      "outputs": [
        {
          "output_type": "execute_result",
          "data": {
            "text/plain": [
              "'/content/Code for Mac and Linux'"
            ]
          },
          "metadata": {
            "tags": []
          },
          "execution_count": 2
        }
      ]
    },
    {
      "cell_type": "code",
      "metadata": {
        "id": "Bw08kzLhnUiV",
        "colab_type": "code",
        "colab": {}
      },
      "source": [
        "import torch\n",
        "from torch.autograd import Variable\n",
        "import cv2\n",
        "from data import BaseTransform,VOC_CLASSES as labelmap\n",
        "from ssd import build_ssd\n",
        "import imageio"
      ],
      "execution_count": 0,
      "outputs": []
    },
    {
      "cell_type": "code",
      "metadata": {
        "id": "f-0ZF6Wuw-mh",
        "colab_type": "code",
        "colab": {}
      },
      "source": [
        "#Function for detecting Objects in a single frame\n",
        "def detect(frame,net,transform):\n",
        "  height,width = frame.shape[:2]\n",
        "  frame_t = transform(frame)[0]\n",
        "  x = torch.from_numpy(frame_t).permute(2,0,1)\n",
        "  x = Variable(x.unsqueeze(0))\n",
        "  \n",
        "  y = net(x)\n",
        "  detections = y.data\n",
        "  scale = torch.Tensor([height,width,height,width])\n",
        "\n",
        "  #detections = [batch,no. of classes,number of occurance,(score,x0,y0,x1,y1)]\n",
        "  for i in range(detections.size(1)):\n",
        "    j = 0\n",
        "    while detections[0,i,j,0] >= 0.6:\n",
        "      pt = (detections[0,i,j,1:]*scale).numpy()\n",
        "      cv2.rectangle(frame,(int(pt[0]),int(pt[1])),(int(pt[2]),int(pt[3])),(0,255,0),2)\n",
        "      cv2.putText(frame,labelmap[i-1],(int(pt[0]),int(pt[1])),cv2.FONT_HERSHEY_COMPLEX,2,(0,255,0),2,cv2.LINE_AA)\n",
        "      j+=1\n",
        "  return frame"
      ],
      "execution_count": 0,
      "outputs": []
    },
    {
      "cell_type": "code",
      "metadata": {
        "id": "xQLa9naE-9js",
        "colab_type": "code",
        "colab": {
          "base_uri": "https://localhost:8080/",
          "height": 113
        },
        "outputId": "09d6c6f8-0440-4c56-cba0-244cc5c10c49"
      },
      "source": [
        "#Creating the SSD Model\n",
        "net = build_ssd('test')\n",
        "net.load_state_dict(torch.load(\"ssd300_mAP_77.43_v2.pth\",map_location = lambda storage, loc: storage))\n",
        "\n",
        "#Creating the Transfromation Object\n",
        "transform = BaseTransform(net.size,(104/256.0, 117/256.0, 123/256.0))"
      ],
      "execution_count": 8,
      "outputs": [
        {
          "output_type": "stream",
          "text": [
            "/content/Code for Mac and Linux/ssd.py:33: UserWarning: volatile was removed and now has no effect. Use `with torch.no_grad():` instead.\n",
            "  self.priors = Variable(self.priorbox.forward(), volatile=True)\n",
            "/content/Code for Mac and Linux/layers/modules/l2norm.py:17: UserWarning: nn.init.constant is now deprecated in favor of nn.init.constant_.\n",
            "  init.constant(self.weight,self.gamma)\n"
          ],
          "name": "stderr"
        }
      ]
    },
    {
      "cell_type": "code",
      "metadata": {
        "id": "lat0X8nuCU6D",
        "colab_type": "code",
        "colab": {}
      },
      "source": [
        "#Dealing with the video\n",
        "reader = imageio.get_reader(\"funny_dog.mp4\")\n",
        "fps = reader.get_meta_data()['fps']\n",
        "writer = imageio.get_writer(\"converted.mp4\",fps=fps)\n",
        "for i,frame in enumerate(reader):\n",
        "  frame = detect(frame,net.eval(),transform)\n",
        "  writer.append_data(frame)\n",
        "  print(i)\n",
        "\n",
        "writer.close()"
      ],
      "execution_count": 0,
      "outputs": []
    }
  ]
}